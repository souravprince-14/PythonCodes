{
 "cells": [
  {
   "cell_type": "markdown",
   "id": "d0d6fa81",
   "metadata": {},
   "source": [
    "### Given an array 'arr' containing single-digit integers, your task is to calculate the total sum of all its elements. However, the resulting sum must also be a single-digit number. To achieve this, repeatedly sum the digits of the result until a single-digit number is obtained.\n"
   ]
  },
  {
   "cell_type": "markdown",
   "id": "54a9e5c7",
   "metadata": {},
   "source": [
    "Input:\n",
    "[5, 8, 4, 9]\n",
    "Output:\n",
    "8"
   ]
  },
  {
   "cell_type": "code",
   "execution_count": 4,
   "id": "eafe9234",
   "metadata": {},
   "outputs": [
    {
     "data": {
      "text/plain": [
       "[5, 8, 4, 9]"
      ]
     },
     "execution_count": 4,
     "metadata": {},
     "output_type": "execute_result"
    }
   ],
   "source": [
    "arr=[int(x) for x in input().split()]\n",
    "arr"
   ]
  },
  {
   "cell_type": "code",
   "execution_count": null,
   "id": "34d136f5",
   "metadata": {},
   "outputs": [],
   "source": []
  },
  {
   "cell_type": "code",
   "execution_count": null,
   "id": "10ba55a8",
   "metadata": {},
   "outputs": [
    {
     "name": "stdout",
     "output_type": "stream",
     "text": [
      "Sum of all elements in given array:  8\n"
     ]
    }
   ],
   "source": [
    "arr=[int(x) for x in input().split()]\n",
    "sum = 0\n",
    "\n",
    "for i in range(0, len(arr)):\n",
    "    sum += arr[i]\n",
    "    if(sum > 9):\n",
    "        # find sum of digits\n",
    "        sum = sum % 10 + sum // 10\n",
    "print(\"Sum of all elements in given array: \", sum)"
   ]
  },
  {
   "cell_type": "code",
   "execution_count": null,
   "id": "d076aae5",
   "metadata": {},
   "outputs": [
    {
     "name": "stdout",
     "output_type": "stream",
     "text": [
      "Hello World!\n"
     ]
    }
   ],
   "source": []
  }
 ],
 "metadata": {
  "kernelspec": {
   "display_name": "Python 3",
   "language": "python",
   "name": "python3"
  },
  "language_info": {
   "codemirror_mode": {
    "name": "ipython",
    "version": 3
   },
   "file_extension": ".py",
   "mimetype": "text/x-python",
   "name": "python",
   "nbconvert_exporter": "python",
   "pygments_lexer": "ipython3",
   "version": "3.11.9"
  }
 },
 "nbformat": 4,
 "nbformat_minor": 5
}
